{
 "cells": [
  {
   "cell_type": "markdown",
   "metadata": {},
   "source": [
    "# Puntos que deben conectarse en Google API"
   ]
  },
  {
   "cell_type": "code",
   "execution_count": 46,
   "metadata": {},
   "outputs": [],
   "source": [
    "import pandas as pd\n",
    "import numpy as np"
   ]
  },
  {
   "cell_type": "code",
   "execution_count": 3,
   "metadata": {},
   "outputs": [],
   "source": [
    "data_point = pd.read_csv('centros_googleApi')"
   ]
  },
  {
   "cell_type": "code",
   "execution_count": 4,
   "metadata": {},
   "outputs": [
    {
     "data": {
      "text/html": [
       "<div>\n",
       "<style scoped>\n",
       "    .dataframe tbody tr th:only-of-type {\n",
       "        vertical-align: middle;\n",
       "    }\n",
       "\n",
       "    .dataframe tbody tr th {\n",
       "        vertical-align: top;\n",
       "    }\n",
       "\n",
       "    .dataframe thead th {\n",
       "        text-align: right;\n",
       "    }\n",
       "</style>\n",
       "<table border=\"1\" class=\"dataframe\">\n",
       "  <thead>\n",
       "    <tr style=\"text-align: right;\">\n",
       "      <th></th>\n",
       "      <th>Unnamed: 0</th>\n",
       "      <th>0</th>\n",
       "      <th>1</th>\n",
       "      <th>2</th>\n",
       "      <th>3</th>\n",
       "      <th>4</th>\n",
       "      <th>5</th>\n",
       "      <th>6</th>\n",
       "      <th>7</th>\n",
       "      <th>8</th>\n",
       "      <th>...</th>\n",
       "      <th>26</th>\n",
       "      <th>27</th>\n",
       "      <th>28</th>\n",
       "      <th>29</th>\n",
       "      <th>30</th>\n",
       "      <th>31</th>\n",
       "      <th>32</th>\n",
       "      <th>33</th>\n",
       "      <th>34</th>\n",
       "      <th>cluster_point</th>\n",
       "    </tr>\n",
       "  </thead>\n",
       "  <tbody>\n",
       "    <tr>\n",
       "      <th>0</th>\n",
       "      <td>0</td>\n",
       "      <td>0.0</td>\n",
       "      <td>0.0</td>\n",
       "      <td>0.0</td>\n",
       "      <td>0.0</td>\n",
       "      <td>0.0</td>\n",
       "      <td>0.0</td>\n",
       "      <td>0.0</td>\n",
       "      <td>0.0</td>\n",
       "      <td>0.0</td>\n",
       "      <td>...</td>\n",
       "      <td>0.0</td>\n",
       "      <td>0.0</td>\n",
       "      <td>0.0</td>\n",
       "      <td>1.0</td>\n",
       "      <td>0.0</td>\n",
       "      <td>0.0</td>\n",
       "      <td>0.0</td>\n",
       "      <td>0.0</td>\n",
       "      <td>0.0</td>\n",
       "      <td>(-78.50040125, -0.20248826666666667)</td>\n",
       "    </tr>\n",
       "    <tr>\n",
       "      <th>1</th>\n",
       "      <td>1</td>\n",
       "      <td>0.0</td>\n",
       "      <td>0.0</td>\n",
       "      <td>0.0</td>\n",
       "      <td>0.0</td>\n",
       "      <td>0.0</td>\n",
       "      <td>0.0</td>\n",
       "      <td>0.0</td>\n",
       "      <td>0.0</td>\n",
       "      <td>0.0</td>\n",
       "      <td>...</td>\n",
       "      <td>0.0</td>\n",
       "      <td>0.0</td>\n",
       "      <td>0.0</td>\n",
       "      <td>0.0</td>\n",
       "      <td>0.0</td>\n",
       "      <td>0.0</td>\n",
       "      <td>0.0</td>\n",
       "      <td>0.0</td>\n",
       "      <td>0.0</td>\n",
       "      <td>(-78.49079993333334, -0.21495733333333333)</td>\n",
       "    </tr>\n",
       "    <tr>\n",
       "      <th>2</th>\n",
       "      <td>2</td>\n",
       "      <td>0.0</td>\n",
       "      <td>0.0</td>\n",
       "      <td>0.0</td>\n",
       "      <td>0.0</td>\n",
       "      <td>0.0</td>\n",
       "      <td>0.0</td>\n",
       "      <td>0.0</td>\n",
       "      <td>1.0</td>\n",
       "      <td>0.0</td>\n",
       "      <td>...</td>\n",
       "      <td>0.0</td>\n",
       "      <td>0.0</td>\n",
       "      <td>1.0</td>\n",
       "      <td>1.0</td>\n",
       "      <td>0.0</td>\n",
       "      <td>0.0</td>\n",
       "      <td>0.0</td>\n",
       "      <td>0.0</td>\n",
       "      <td>0.0</td>\n",
       "      <td>(-78.49941296, -0.20644891999999998)</td>\n",
       "    </tr>\n",
       "    <tr>\n",
       "      <th>3</th>\n",
       "      <td>3</td>\n",
       "      <td>0.0</td>\n",
       "      <td>0.0</td>\n",
       "      <td>0.0</td>\n",
       "      <td>0.0</td>\n",
       "      <td>0.0</td>\n",
       "      <td>0.0</td>\n",
       "      <td>0.0</td>\n",
       "      <td>0.0</td>\n",
       "      <td>0.0</td>\n",
       "      <td>...</td>\n",
       "      <td>1.0</td>\n",
       "      <td>0.0</td>\n",
       "      <td>0.0</td>\n",
       "      <td>0.0</td>\n",
       "      <td>0.0</td>\n",
       "      <td>0.0</td>\n",
       "      <td>0.0</td>\n",
       "      <td>0.0</td>\n",
       "      <td>0.0</td>\n",
       "      <td>(-78.4981667125, -0.21103442500000003)</td>\n",
       "    </tr>\n",
       "    <tr>\n",
       "      <th>4</th>\n",
       "      <td>4</td>\n",
       "      <td>0.0</td>\n",
       "      <td>0.0</td>\n",
       "      <td>0.0</td>\n",
       "      <td>0.0</td>\n",
       "      <td>0.0</td>\n",
       "      <td>0.0</td>\n",
       "      <td>0.0</td>\n",
       "      <td>0.0</td>\n",
       "      <td>0.0</td>\n",
       "      <td>...</td>\n",
       "      <td>0.0</td>\n",
       "      <td>0.0</td>\n",
       "      <td>0.0</td>\n",
       "      <td>0.0</td>\n",
       "      <td>0.0</td>\n",
       "      <td>0.0</td>\n",
       "      <td>0.0</td>\n",
       "      <td>1.0</td>\n",
       "      <td>0.0</td>\n",
       "      <td>(-78.50411983333333, -0.20301313333333335)</td>\n",
       "    </tr>\n",
       "  </tbody>\n",
       "</table>\n",
       "<p>5 rows × 37 columns</p>\n",
       "</div>"
      ],
      "text/plain": [
       "   Unnamed: 0    0    1    2    3    4    5    6    7    8  ...   26   27  \\\n",
       "0           0  0.0  0.0  0.0  0.0  0.0  0.0  0.0  0.0  0.0  ...  0.0  0.0   \n",
       "1           1  0.0  0.0  0.0  0.0  0.0  0.0  0.0  0.0  0.0  ...  0.0  0.0   \n",
       "2           2  0.0  0.0  0.0  0.0  0.0  0.0  0.0  1.0  0.0  ...  0.0  0.0   \n",
       "3           3  0.0  0.0  0.0  0.0  0.0  0.0  0.0  0.0  0.0  ...  1.0  0.0   \n",
       "4           4  0.0  0.0  0.0  0.0  0.0  0.0  0.0  0.0  0.0  ...  0.0  0.0   \n",
       "\n",
       "    28   29   30   31   32   33   34  \\\n",
       "0  0.0  1.0  0.0  0.0  0.0  0.0  0.0   \n",
       "1  0.0  0.0  0.0  0.0  0.0  0.0  0.0   \n",
       "2  1.0  1.0  0.0  0.0  0.0  0.0  0.0   \n",
       "3  0.0  0.0  0.0  0.0  0.0  0.0  0.0   \n",
       "4  0.0  0.0  0.0  0.0  0.0  1.0  0.0   \n",
       "\n",
       "                                cluster_point  \n",
       "0        (-78.50040125, -0.20248826666666667)  \n",
       "1  (-78.49079993333334, -0.21495733333333333)  \n",
       "2        (-78.49941296, -0.20644891999999998)  \n",
       "3      (-78.4981667125, -0.21103442500000003)  \n",
       "4  (-78.50411983333333, -0.20301313333333335)  \n",
       "\n",
       "[5 rows x 37 columns]"
      ]
     },
     "execution_count": 4,
     "metadata": {},
     "output_type": "execute_result"
    }
   ],
   "source": [
    "data_point.head()"
   ]
  },
  {
   "cell_type": "markdown",
   "metadata": {},
   "source": [
    "Método para obtener los puntos del dataset."
   ]
  },
  {
   "cell_type": "code",
   "execution_count": 8,
   "metadata": {},
   "outputs": [],
   "source": [
    "puntos = list(data_point['cluster_point'])"
   ]
  },
  {
   "cell_type": "code",
   "execution_count": 16,
   "metadata": {},
   "outputs": [
    {
     "data": {
      "text/plain": [
       "['-78.50040125', ' -0.20248826666666667']"
      ]
     },
     "execution_count": 16,
     "metadata": {},
     "output_type": "execute_result"
    }
   ],
   "source": [
    "puntos[0].replace(')','').replace('(','').split(',')"
   ]
  },
  {
   "cell_type": "markdown",
   "metadata": {},
   "source": [
    "Creación de un diccionario donde cada punto se conecta con las coordenadas de sus vecinos."
   ]
  },
  {
   "cell_type": "code",
   "execution_count": 23,
   "metadata": {},
   "outputs": [],
   "source": [
    "longitud,latitud = puntos[0].replace(')','').replace('(','').split(',')"
   ]
  },
  {
   "cell_type": "code",
   "execution_count": 25,
   "metadata": {},
   "outputs": [
    {
     "data": {
      "text/plain": [
       "' -0.20248826666666667'"
      ]
     },
     "execution_count": 25,
     "metadata": {},
     "output_type": "execute_result"
    }
   ],
   "source": [
    "latitud"
   ]
  },
  {
   "cell_type": "code",
   "execution_count": 26,
   "metadata": {},
   "outputs": [
    {
     "data": {
      "text/plain": [
       "'-78.50040125'"
      ]
     },
     "execution_count": 26,
     "metadata": {},
     "output_type": "execute_result"
    }
   ],
   "source": [
    "longitud"
   ]
  },
  {
   "cell_type": "code",
   "execution_count": 90,
   "metadata": {},
   "outputs": [],
   "source": [
    "diccionar_coordenadas = {}\n",
    "listaDEpuntos = []\n",
    "for punto in puntos:\n",
    "    longitud,latitud = punto.replace(')','').replace('(','').split(',')    \n",
    "    #google maps pide latitud primero\n",
    "    coordenada = (float(latitud),float(longitud))\n",
    "    listaDEpuntos.append(coordenada)\n",
    "    diccionar_coordenadas[coordenada] = []"
   ]
  },
  {
   "cell_type": "code",
   "execution_count": 91,
   "metadata": {},
   "outputs": [
    {
     "data": {
      "text/plain": [
       "35"
      ]
     },
     "execution_count": 91,
     "metadata": {},
     "output_type": "execute_result"
    }
   ],
   "source": [
    "len(diccionar_coordenadas)"
   ]
  },
  {
   "cell_type": "code",
   "execution_count": 69,
   "metadata": {},
   "outputs": [
    {
     "data": {
      "text/plain": [
       "35"
      ]
     },
     "execution_count": 69,
     "metadata": {},
     "output_type": "execute_result"
    }
   ],
   "source": [
    "fila  = np.array(list(data_point.iloc[0])[1:-1])\n",
    "len(fila)"
   ]
  },
  {
   "cell_type": "code",
   "execution_count": 71,
   "metadata": {},
   "outputs": [
    {
     "data": {
      "text/plain": [
       "array([0., 0., 0., 0., 0., 0., 0., 0., 0., 0., 0., 0., 0., 0., 0., 0., 1.,\n",
       "       0., 0., 0., 0., 0., 0., 0., 0., 0., 0., 0., 0., 1., 0., 0., 0., 0.,\n",
       "       0.])"
      ]
     },
     "execution_count": 71,
     "metadata": {},
     "output_type": "execute_result"
    }
   ],
   "source": [
    "fila"
   ]
  },
  {
   "cell_type": "code",
   "execution_count": 80,
   "metadata": {},
   "outputs": [
    {
     "data": {
      "text/plain": [
       "array([16, 29], dtype=int64)"
      ]
     },
     "execution_count": 80,
     "metadata": {},
     "output_type": "execute_result"
    }
   ],
   "source": [
    "np.where(fila==1)[0]"
   ]
  },
  {
   "cell_type": "code",
   "execution_count": 83,
   "metadata": {},
   "outputs": [
    {
     "name": "stdout",
     "output_type": "stream",
     "text": [
      "16\n",
      "29\n"
     ]
    }
   ],
   "source": [
    "conexiones = np.where(fila==1)[0]\n",
    "for c in conexiones:\n",
    "    print(c)"
   ]
  },
  {
   "cell_type": "code",
   "execution_count": 92,
   "metadata": {},
   "outputs": [],
   "source": [
    "for i in range(len(data_point)):\n",
    "    #tomo las conexiones\n",
    "    fila  = np.array(list(data_point.iloc[i])[1:-1])\n",
    "    \n",
    "    conexiones = np.where(fila==1)[0]\n",
    "\n",
    "    for idx in conexiones:\n",
    "        #almaceno las coordenadas \n",
    "        diccionar_coordenadas[listaDEpuntos[i]].append(listaDEpuntos[idx])\n"
   ]
  },
  {
   "cell_type": "code",
   "execution_count": 93,
   "metadata": {},
   "outputs": [
    {
     "data": {
      "text/plain": [
       "{(-0.20248826666666667, -78.50040125): [(-0.20381238333333332, -78.5007766),\n",
       "  (-0.2032972, -78.49823549999999)],\n",
       " (-0.21495733333333333, -78.49079993333334): [],\n",
       " (-0.20644891999999998, -78.49941296): [(-0.20728062500000002, -78.498081775),\n",
       "  (-0.20768993333333333, -78.49984930000001),\n",
       "  (-0.205504975, -78.499905125),\n",
       "  (-0.2032972, -78.49823549999999)],\n",
       " (-0.21103442500000003,\n",
       "  -78.4981667125): [(-0.21096573333333335,\n",
       "   -78.49978503333334), (-0.20872455454545458, -78.49558266363637), (-0.21235037499999998,\n",
       "   -78.49691080000001)],\n",
       " (-0.20301313333333335, -78.50411983333333): [(-0.20275515, -78.50347635)],\n",
       " (-0.2126993, -78.491860325): [(-0.21495733333333333, -78.49079993333334),\n",
       "  (-0.21029951428571433, -78.49388817142858)],\n",
       " (-0.21029951428571433, -78.49388817142858): [(-0.2126993, -78.491860325),\n",
       "  (-0.20952433333333334, -78.49254119999999),\n",
       "  (-0.21137536666666668, -78.49542793333333),\n",
       "  (-0.20872455454545458, -78.49558266363637)],\n",
       " (-0.20728062500000002, -78.498081775): [(-0.20644891999999998, -78.49941296),\n",
       "  (-0.20768993333333333, -78.49984930000001),\n",
       "  (-0.205504975, -78.499905125),\n",
       "  (-0.2079013, -78.49702765)],\n",
       " (-0.19816061999999998, -78.49596283): [(-0.20020670000000002, -78.49098605),\n",
       "  (-0.2032972, -78.49823549999999)],\n",
       " (-0.2083583, -78.49622876666668): [(-0.20872455454545458, -78.49558266363637),\n",
       "  (-0.2079013, -78.49702765)],\n",
       " (-0.20041799999999999, -78.50095725): [(-0.20246205, -78.5013519),\n",
       "  (-0.197645025, -78.50026352500001),\n",
       "  (-0.20275515, -78.50347635)],\n",
       " (-0.211726575, -78.5013562): [(-0.21096573333333335, -78.49978503333334),\n",
       "  (-0.2102183, -78.5007215)],\n",
       " (-0.2042497, -78.5021648): [(-0.20301313333333335, -78.50411983333333),\n",
       "  (-0.20246205, -78.5013519),\n",
       "  (-0.205504975, -78.499905125)],\n",
       " (-0.21373910000000002,\n",
       "  -78.4978411): [(-0.21235037499999998, -78.49691080000001)],\n",
       " (-0.20246205, -78.5013519): [(-0.20248826666666667, -78.50040125),\n",
       "  (-0.20041799999999999, -78.50095725),\n",
       "  (-0.20381238333333332, -78.5007766)],\n",
       " (-0.197645025, -78.50026352500001): [(-0.20041799999999999, -78.50095725)],\n",
       " (-0.20381238333333332, -78.5007766): [(-0.2042497, -78.5021648),\n",
       "  (-0.20246205, -78.5013519),\n",
       "  (-0.2043924, -78.5003718)],\n",
       " (-0.20952433333333334,\n",
       "  -78.49254119999999): [(-0.21029951428571433,\n",
       "   -78.49388817142858), (-0.21137536666666668, -78.49542793333333), (-0.208703,\n",
       "   -78.4912293)],\n",
       " (-0.20430165, -78.50571395): [(-0.20301313333333335, -78.50411983333333),\n",
       "  (-0.2042497, -78.5021648)],\n",
       " (-0.20557, -78.4919239): [],\n",
       " (-0.21137536666666668,\n",
       "  -78.49542793333333): [(-0.21029951428571433,\n",
       "   -78.49388817142858), (-0.20952433333333334, -78.49254119999999), (-0.21235037499999998,\n",
       "   -78.49691080000001)],\n",
       " (-0.20020670000000002, -78.49098605): [(-0.19816061999999998, -78.49596283),\n",
       "  (-0.2079013, -78.49702765)],\n",
       " (-0.20768993333333333,\n",
       "  -78.49984930000001): [(-0.20644891999999998, -78.49941296), (-0.211726575,\n",
       "   -78.5013562)],\n",
       " (-0.21096573333333335,\n",
       "  -78.49978503333334): [(-0.21103442500000003, -78.4981667125), (-0.211726575,\n",
       "   -78.5013562), (-0.2102183, -78.5007215)],\n",
       " (-0.20872455454545458,\n",
       "  -78.49558266363637): [(-0.21103442500000003,\n",
       "   -78.4981667125), (-0.21029951428571433, -78.49388817142858), (-0.2083583,\n",
       "   -78.49622876666668), (-0.20557, -78.4919239)],\n",
       " (-0.214803425, -78.500259975): [(-0.21373910000000002, -78.4978411)],\n",
       " (-0.21235037499999998,\n",
       "  -78.49691080000001): [(-0.21103442500000003,\n",
       "   -78.4981667125), (-0.21137536666666668, -78.49542793333333), (-0.214803425,\n",
       "   -78.500259975)],\n",
       " (-0.208703, -78.4912293): [(-0.20952433333333334, -78.49254119999999)],\n",
       " (-0.205504975, -78.499905125): [(-0.20644891999999998, -78.49941296),\n",
       "  (-0.20728062500000002, -78.498081775),\n",
       "  (-0.2043924, -78.5003718)],\n",
       " (-0.2032972, -78.49823549999999): [(-0.20248826666666667, -78.50040125),\n",
       "  (-0.19816061999999998, -78.49596283),\n",
       "  (-0.2049163, -78.4990074)],\n",
       " (-0.2102183, -78.5007215): [(-0.20768993333333333, -78.49984930000001)],\n",
       " (-0.2079013, -78.49702765): [(-0.20728062500000002, -78.498081775),\n",
       "  (-0.2083583, -78.49622876666668)],\n",
       " (-0.2049163, -78.4990074): [(-0.20644891999999998, -78.49941296),\n",
       "  (-0.2043924, -78.5003718)],\n",
       " (-0.20275515, -78.50347635): [(-0.20246205, -78.5013519),\n",
       "  (-0.20430165, -78.50571395)],\n",
       " (-0.2043924, -78.5003718): [(-0.20381238333333332, -78.5007766),\n",
       "  (-0.205504975, -78.499905125)]}"
      ]
     },
     "execution_count": 93,
     "metadata": {},
     "output_type": "execute_result"
    }
   ],
   "source": [
    "diccionar_coordenadas"
   ]
  },
  {
   "cell_type": "code",
   "execution_count": null,
   "metadata": {},
   "outputs": [],
   "source": []
  }
 ],
 "metadata": {
  "kernelspec": {
   "display_name": "Python 3",
   "language": "python",
   "name": "python3"
  },
  "language_info": {
   "codemirror_mode": {
    "name": "ipython",
    "version": 3
   },
   "file_extension": ".py",
   "mimetype": "text/x-python",
   "name": "python",
   "nbconvert_exporter": "python",
   "pygments_lexer": "ipython3",
   "version": "3.8.5"
  }
 },
 "nbformat": 4,
 "nbformat_minor": 4
}
