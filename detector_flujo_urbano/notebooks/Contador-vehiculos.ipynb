{
 "cells": [
  {
   "cell_type": "markdown",
   "metadata": {},
   "source": [
    "# Importando bibliotecas"
   ]
  },
  {
   "cell_type": "code",
   "execution_count": 1,
   "metadata": {},
   "outputs": [],
   "source": [
    "import numpy as np\n",
    "import cv2\n",
    "import argparse\n",
    "import math\n"
   ]
  },
  {
   "cell_type": "markdown",
   "metadata": {},
   "source": [
    "# Funciones"
   ]
  },
  {
   "cell_type": "markdown",
   "metadata": {},
   "source": [
    "## Conseguir centro\n",
    "Función para conseguir el centro de un rectángulo. \n",
    "Se da el punto de origen y el ancho y el alto."
   ]
  },
  {
   "cell_type": "code",
   "execution_count": 2,
   "metadata": {},
   "outputs": [],
   "source": [
    "def get_centroid(x, y, w, h):\n",
    "    x1 = int(w / 2)\n",
    "    y1 = int(h / 2)\n",
    "\n",
    "    cx = x + x1\n",
    "    cy = y + y1\n",
    "\n",
    "    return (cx, cy)\n"
   ]
  },
  {
   "cell_type": "markdown",
   "metadata": {},
   "source": [
    "## Detectar vehículos\n",
    "La función aplica la detección de edges de opencv para retornar todas las formas encontradas que cumplan una altura y un ancho mínimos.\n",
    "Retorna los rectángulos que envuelven a esas formas y el centro de los rectángulos.\n",
    "### Actualización\n",
    "Ahora es capaz de clasificar entre buses y autos de acuerdo al tamaño. La función retorno un diccionario."
   ]
  },
  {
   "cell_type": "code",
   "execution_count": 3,
   "metadata": {},
   "outputs": [],
   "source": [
    "def detectar_vehiculo(fg_mask, wh_autos={\"min_w\":18,\"max_w\":150,\"min_h\":18,\"max_h\":120},\n",
    "    wh_motos={\"min_w\":0,\"max_w\":0,\"min_h\":0,\"max_h\":0},\n",
    "    wh_personas={\"min_w\":0,\"max_w\":0,\"min_h\":0,\"max_h\":0},\n",
    "    wh_autobuses={\"min_w\":0,\"max_w\":0,\"min_h\":0,\"max_h\":0}):\n",
    "\n",
    "    #diccionario para diferenciar entre cada vehículo\n",
    "    matches = {\"autos\":[],\n",
    "        \"motos\":[],\n",
    "        \"buses\":[],\n",
    "        \"personas\":[]}\n",
    "\n",
    "    # encuentra los contornos de la imagen\n",
    "    contours, hierarchy = cv2.findContours(fg_mask, cv2.RETR_EXTERNAL, cv2.CHAIN_APPROX_TC89_L1)\n",
    "\n",
    "    # filtrando tipos de vehículos\n",
    "    for (i, contour) in enumerate(contours):\n",
    "        #coordenadas del rectángulo que engloga la forma encontrada\n",
    "        (x, y, w, h) = cv2.boundingRect(contour)\n",
    "        #el ancho y el alto son diferentes para los autos, motos, autobuses\n",
    "        es_auto = (w >= wh_autos[\"min_w\"]) and ( \n",
    "            h >= wh_autos[\"min_h\"]) and (\n",
    "                w <= wh_autos[\"max_w\"]) and (\n",
    "                    h <= wh_autos[\"max_h\"])\n",
    "\n",
    "        es_bus = (w >= wh_autobuses[\"min_w\"]) and ( \n",
    "            h >= wh_autobuses[\"min_h\"]) and (\n",
    "                w <= wh_autobuses[\"max_w\"]) and (\n",
    "                    h <= wh_autobuses[\"max_h\"])\n",
    "\n",
    "        if es_auto:       \n",
    "            # getting center of the bounding box\n",
    "            centroid = get_centroid(x, y, w, h)\n",
    "\n",
    "            #se almacenan los datos del rectángulo y el centro del rectángulo\n",
    "            #este rectángulo está relacionado con los contornos encontrados por opencv\n",
    "            matches[\"autos\"].append(((x, y, w, h), centroid))\n",
    "\n",
    "        if es_bus:\n",
    "                    # getting center of the bounding box\n",
    "            centroid = get_centroid(x, y, w, h)\n",
    "\n",
    "            #se almacenan los datos del rectángulo y el centro del rectángulo\n",
    "            #este rectángulo está relacionado con los contornos encontrados por opencv\n",
    "            matches[\"buses\"].append(((x, y, w, h), centroid))\n",
    "\n",
    "    return matches\n"
   ]
  },
  {
   "cell_type": "markdown",
   "metadata": {},
   "source": [
    "## Zona de salida\n",
    "Recibe un punto, en este caso el centro del rectángulo, se pregunta si se encuentra en la zona de salida. "
   ]
  },
  {
   "cell_type": "code",
   "execution_count": 4,
   "metadata": {},
   "outputs": [],
   "source": [
    "#se envía la ubicación del vehículo y se pregunta si está o no en la zona de salida\n",
    "def check_exit(point, exit_masks):\n",
    "    for exit_mask in exit_masks:\n",
    "        try:\n",
    "            # (y,x)\n",
    "            if exit_mask[point[1]][point[0]][0] == 255:\n",
    "                return True\n",
    "        except:\n",
    "            return True\n",
    "    return False\n"
   ]
  },
  {
   "cell_type": "markdown",
   "metadata": {},
   "source": [
    "## Entrenar al módulo que elimina el fondo\n",
    "Al parecer se necesitan de algunas repeticiones para que el módulo de opencv empiece a dar buenos resultados. Por defecto, la función procesará 500 frames que no serán tomados en cuenta durante el conteo de vehículos."
   ]
  },
  {
   "cell_type": "code",
   "execution_count": 5,
   "metadata": {},
   "outputs": [],
   "source": [
    "def train_bg_subtractor(inst, cap, num=500):\n",
    "    '''\n",
    "        BG substractor need process some amount of frames to start giving result\n",
    "    '''\n",
    "    print ('Training BG Subtractor...')\n",
    "\n",
    "    for i in range(num):\n",
    "        ret, frame = capture.read()\n",
    "        inst.apply(frame, None, 0.005)     "
   ]
  },
  {
   "cell_type": "markdown",
   "metadata": {},
   "source": [
    "## Dibujar Contador\n",
    "Dibuja el contador de vehículos en la parte superior del video"
   ]
  },
  {
   "cell_type": "code",
   "execution_count": 6,
   "metadata": {},
   "outputs": [],
   "source": [
    "def draw_count(img, num_autos=0,num_buses=0,num_motos=0,num_personas=0):      \n",
    "\n",
    "    # drawing top block with counts\n",
    "    cv2.rectangle(img, (0, 0), (img.shape[1], 50), (0, 0, 0), cv2.FILLED)\n",
    "    cv2.putText(img, (\"Autos: {n_a}, Buses: {n_b} \".format(n_a=num_autos,n_b=num_buses)), (30, 30),\n",
    "                cv2.FONT_HERSHEY_SIMPLEX, 0.7, (255, 255, 255), 1)\n",
    "    return img"
   ]
  },
  {
   "cell_type": "markdown",
   "metadata": {},
   "source": [
    "## Distancia entre dos puntos\n",
    "Esta función será de utilidad para dar seguimiento a los vehículos."
   ]
  },
  {
   "cell_type": "code",
   "execution_count": 7,
   "metadata": {},
   "outputs": [],
   "source": [
    "def distance(x, y, x_weight=1.0, y_weight=1.0):\n",
    "\n",
    "    return math.sqrt(float((x[0] - y[0])**2) / x_weight + float((x[1] - y[1])**2) / y_weight)       "
   ]
  },
  {
   "cell_type": "markdown",
   "metadata": {},
   "source": [
    "## Contar vehículos\n",
    "Esta función sigue el camino de los vehículos a través de paths. Cada vehículo encontrado (matches) es comparado para establecer una relación con paths ya existentes o crear un nuevo path si se trata de  un nuevo vehículo."
   ]
  },
  {
   "cell_type": "code",
   "execution_count": 8,
   "metadata": {},
   "outputs": [],
   "source": [
    "def contar_vehiculos(pathes=[],matches=[],path_size=10,exit_masks=None,vehicle_count=0):\n",
    "    #######################################\n",
    "    # SEGUIMIENTO DEL VEHÍCULO \n",
    "    #######################################\n",
    "    # se verifica si el path del vehículo ya existe\n",
    "    if not pathes:\n",
    "        for match in matches:\n",
    "            pathes.append([match[1]])\n",
    "    else:\n",
    "        # link new matches with old pathes based on minimum distance between\n",
    "        # matches\n",
    "        new_pathes = []\n",
    "        for path in pathes:\n",
    "            _min = 999999\n",
    "            _match = None\n",
    "            for vehiculo in matches:\n",
    "                if len(path) == 1:\n",
    "                    #comparo la distancia de los centros que hay en los rectángulos\n",
    "                    d = distance(vehiculo[1], path[-1])\n",
    "                else:\n",
    "                    # based on 2 prev matches predict next point and calculate\n",
    "                    # distance from predicted next point to current\n",
    "                    xn = 2 * path[-1][0] - path[-2][0]\n",
    "                    yn = 2 * path[-1][1] - path[-2][1]\n",
    "                    #Mira la distancia entre el primer punto y el segundo\n",
    "                    d = distance(\n",
    "                        vehiculo[1], (xn, yn),\n",
    "                        x_weight=x_weight,\n",
    "                        y_weight=y_weight\n",
    "                    )\n",
    "\n",
    "                #distancia mínima para poder predecir los siguientes puntos\n",
    "                if d < _min:\n",
    "                    _min = d\n",
    "                    _match = vehiculo\n",
    "\n",
    "            #si match se setea\n",
    "            if _match and _min <= max_dst:\n",
    "                matches.remove(_match)\n",
    "                path.append(_match[1])\n",
    "                new_pathes.append(path)\n",
    "\n",
    "            # do not drop path if current frame has no matches\n",
    "            if _match is None:\n",
    "                new_pathes.append(path)\n",
    "\n",
    "        pathes = new_pathes\n",
    "\n",
    "        # add new pathes\n",
    "        if len(matches):\n",
    "            for vehiculo in matches:\n",
    "                # do not add matches that already should be counted\n",
    "                if check_exit(vehiculo[1],exit_masks):\n",
    "                    continue\n",
    "                pathes.append([vehiculo[1]])\n",
    "\n",
    "    # save only last N matches in path\n",
    "    for i in range(len(pathes)):\n",
    "        pathes[i] = pathes[i][path_size * -1:]\n",
    "\n",
    "\n",
    "    ################################################\n",
    "    #CONTEO\n",
    "    ###############################################\n",
    "    # count vehicles and drop counted pathes:\n",
    "    new_pathes = []\n",
    "    for i, path in enumerate(pathes):\n",
    "        d = path[-2:]\n",
    "\n",
    "        if (\n",
    "            # need at list two matches to count\n",
    "            len(d) >= 2 and\n",
    "            # prev point not in exit zone\n",
    "            not check_exit(d[0],exit_masks) and\n",
    "            # current point in exit zone\n",
    "            check_exit(d[1],exit_masks) and\n",
    "            # path len is bigger then min\n",
    "            path_size <= len(path)\n",
    "        ):\n",
    "            vehicle_count += 1\n",
    "        else:\n",
    "            # prevent linking with path that already in exit zone\n",
    "            add = True\n",
    "            for vehiculo in path:\n",
    "                if check_exit(vehiculo,exit_masks):\n",
    "                    add = False\n",
    "                    break\n",
    "            if add:\n",
    "                new_pathes.append(path)\n",
    "\n",
    "    pathes = new_pathes\n",
    "\n",
    "    return vehicle_count,pathes\n"
   ]
  },
  {
   "cell_type": "markdown",
   "metadata": {},
   "source": [
    "# Ejecución del contador"
   ]
  },
  {
   "cell_type": "markdown",
   "metadata": {},
   "source": [
    "Se crea el objeto que eliminará el fondo"
   ]
  },
  {
   "cell_type": "code",
   "execution_count": 9,
   "metadata": {},
   "outputs": [],
   "source": [
    "#backSub = cv2.createBackgroundSubtractorKNN()\n",
    "backSub = cv2.createBackgroundSubtractorMOG2(history=500, detectShadows=False)"
   ]
  },
  {
   "cell_type": "markdown",
   "metadata": {},
   "source": [
    "Se declara el objeto que reproducirá el video"
   ]
  },
  {
   "cell_type": "code",
   "execution_count": 10,
   "metadata": {},
   "outputs": [],
   "source": [
    "#dirección del video\n",
    "path = \"Puente del Guambra sur oriente.mp4\"\n",
    "capture = cv2.VideoCapture(path)\n",
    "\n",
    "if not capture.isOpened:\n",
    "    print('Unable to open: ' + path)"
   ]
  },
  {
   "cell_type": "markdown",
   "metadata": {},
   "source": [
    "Se entrena el sustractor del fondo para que funcoine mejor.\n"
   ]
  },
  {
   "cell_type": "code",
   "execution_count": 11,
   "metadata": {},
   "outputs": [
    {
     "name": "stdout",
     "output_type": "stream",
     "text": [
      "Training BG Subtractor...\n"
     ]
    }
   ],
   "source": [
    "# skipping 500 frames to train bg subtractor\n",
    "train_bg_subtractor(backSub, capture, num=500)"
   ]
  },
  {
   "cell_type": "markdown",
   "metadata": {},
   "source": [
    "Se crean dos rectángulos para marcar exit zone en ambos lados. Un tercio de la ROI"
   ]
  },
  {
   "cell_type": "code",
   "execution_count": 12,
   "metadata": {},
   "outputs": [],
   "source": [
    "ret, frame = capture.read()\n",
    "height , width , layers =  frame.shape\n",
    "new_h=height//3\n",
    "new_w=width//3\n",
    "SHAPE = (new_h,new_w)\n",
    "\n",
    "\n",
    "EXIT_PTS = [[(0, 0),(SHAPE[1]//4, SHAPE[0])],\n",
    "           [(SHAPE[1]//4*3,0),(SHAPE[1],SHAPE[0])]]\n",
    "\n",
    "exit_mask = np.zeros(SHAPE + (3,), dtype='uint8')\n",
    "\n",
    "#se dibujan rectángulos para marcar la zona de salida\n",
    "for rectangles in EXIT_PTS:\n",
    "    cv2.rectangle(exit_mask, rectangles[0], rectangles[1], (255,255,255), -1)\n"
   ]
  },
  {
   "cell_type": "markdown",
   "metadata": {},
   "source": [
    "Se agrearon nuevas variables. Las listas de pathes servirán para dar seguimiento a cada tipo de vehículo. x_weight y y_weight son parte del cálculo de la distancia."
   ]
  },
  {
   "cell_type": "code",
   "execution_count": 13,
   "metadata": {},
   "outputs": [],
   "source": [
    "#Esta lista servirá para darle seguimiento a los vehículos\n",
    "pathes_autos = []\n",
    "pathes_buses = []\n",
    "\n",
    "#pesos considerados para la medición de la distancia\n",
    "x_weight = 0.9\n",
    "y_weight = 0.9\n",
    "\n",
    "max_dst=30\n",
    "path_size=10\n",
    "\n",
    "\n",
    "#contadores\n",
    "contador_autos = 0\n",
    "contador_buses = 0\n"
   ]
  },
  {
   "cell_type": "markdown",
   "metadata": {},
   "source": [
    "El resultado final permite visualizar el conteo de vehículos."
   ]
  },
  {
   "cell_type": "code",
   "execution_count": 14,
   "metadata": {},
   "outputs": [],
   "source": [
    "##################################33\n",
    "#Procesamiento del video\n",
    "###############################33\n",
    "\n",
    "while True:\n",
    "\n",
    "    ret, frame = capture.read()\n",
    "    if frame is None:\n",
    "\n",
    "        break\n",
    "    ###################################\n",
    "    #REGIÓN DE INTERES roi\n",
    "    ####################################\n",
    "    xr1 = 0\n",
    "    xr2 = 1200\n",
    "    yr1 = 300\n",
    "    yr2 = 1000\n",
    "    roi = frame[yr1:yr2,xr1:xr2]\n",
    "    cv2.rectangle(frame,(xr1,yr1),(xr2,yr2),(255,0,0),thickness=10)\n",
    "\n",
    "    ###################################\n",
    "    #Eliminación del fondo y filtros\n",
    "    ###################################\n",
    "    \n",
    "    fgMask = backSub.apply(roi,None, 0.005)\n",
    "\n",
    "    #filtros\n",
    "    kernel = cv2.getStructuringElement(cv2.MORPH_ELLIPSE, (5, 5))\n",
    "\n",
    "    # Remove noise\n",
    "    opening = cv2.morphologyEx(fgMask, cv2.MORPH_OPEN, kernel)\n",
    "    # Fill any small holes\n",
    "    closing = cv2.morphologyEx(opening, cv2.MORPH_CLOSE, kernel)\n",
    "\n",
    "    # Dilate to merge adjacent blobs\n",
    "    dilation = cv2.dilate(closing, kernel, iterations=2)\n",
    "\n",
    "    # threshold\n",
    "    dilation[dilation < 240] = 0\n",
    "\n",
    "\n",
    "    ###############################################\n",
    "    #CAMBIO DE TAMAÑO DE LA IMAGEN\n",
    "    ###############################################\n",
    "    resized_frame = cv2.resize(frame, (new_w, new_h)) \n",
    "    resized_roi = cv2.resize(roi, (new_w, new_h)) \n",
    "    resized_fgMask = cv2.resize(dilation, (new_w, new_h)) \n",
    "\n",
    "\n",
    "    ###############################################\n",
    "    # DETECCIÓN DE VEHÍCULOS\n",
    "    ########################################\n",
    "\n",
    "    #Se buscan VEHICULOS en la imaen\n",
    "    matches = detectar_vehiculo(resized_fgMask,\n",
    "        wh_autos={\"min_w\":28,\"max_w\":100,\"min_h\":18,\"max_h\":50},\n",
    "        wh_autobuses={\"min_w\":100,\"max_w\":400,\"min_h\":50,\"max_h\":420})\n",
    "\n",
    "    #se dibujan rectángulos cuando encuentra un vehículo\n",
    "    for match in matches[\"autos\"]:\n",
    "        (x, y, w, h) = match[0]\n",
    "        #dibuja un rectángulo\n",
    "        if(check_exit(match[1],[exit_mask])):\n",
    "            cv2.rectangle(resized_roi, (x,y), (x+w,y+h), (0, 128, 0), 3)\n",
    "        else:\n",
    "            cv2.rectangle(resized_roi, (x,y), (x+w,y+h), (173, 255, 47), 3)\n",
    "\n",
    "    #se dibujan rectángulos cuando encuentra un vehículo\n",
    "    for match in matches[\"buses\"]:\n",
    "        (x, y, w, h) = match[0]\n",
    "        #dibuja un rectángulo\n",
    "        if(check_exit(match[1],[exit_mask])):\n",
    "            cv2.rectangle(resized_roi, (x,y), (x+w,y+h), (75, 0, 130), 3)\n",
    "        else:\n",
    "            cv2.rectangle(resized_roi, (x,y), (x+w,y+h), (255, 105, 180), 3)            \n",
    "        \n",
    "\n",
    "    ###############################################\n",
    "    #  VISUALIZACIÓN DE ROI Y EXIT ZONE\n",
    "    #########################################\n",
    "\n",
    "    #Se reproduce la imagen completa\n",
    "    cv2.imshow('Last Frame',resized_frame)\n",
    "\n",
    "    #se superpone la máscara de exit zone para poder detectar el flujo vehiculas\n",
    "    cv2.addWeighted(exit_mask, 0.1, resized_roi, 0.9, 0, resized_roi)\n",
    "    #############33\n",
    "    #Dibuja el contador\n",
    "    ########################33\n",
    "    draw_count(resized_roi,num_autos=contador_autos,num_buses=contador_buses)   \n",
    "    #se reproduce la imagen zoom de la zona evaluada\n",
    "    cv2.imshow('Frame', resized_roi)\n",
    "    #se muestra la máscara sin fondo\n",
    "    cv2.imshow('FG Mask', resized_fgMask)\n",
    "    exit_masks = [exit_mask]\n",
    "    contador_autos,pathes_autos = contar_vehiculos(pathes=pathes_autos,matches=matches[\"autos\"],path_size=path_size,exit_masks=exit_masks,vehicle_count=contador_autos)\n",
    "    contador_buses,pathes_buses = contar_vehiculos(pathes=pathes_buses,matches=matches[\"buses\"],path_size=path_size,exit_masks=exit_masks,vehicle_count=contador_buses)\n",
    "\n",
    "    #cerrar el programa\n",
    "    keyboard = cv2.waitKey(30)\n",
    "\n",
    "    if keyboard == 'q' or keyboard == 27:\n",
    "        break    \n"
   ]
  },
  {
   "cell_type": "code",
   "execution_count": null,
   "metadata": {},
   "outputs": [],
   "source": []
  }
 ],
 "metadata": {
  "kernelspec": {
   "display_name": "Python 3",
   "language": "python",
   "name": "python3"
  },
  "language_info": {
   "codemirror_mode": {
    "name": "ipython",
    "version": 3
   },
   "file_extension": ".py",
   "mimetype": "text/x-python",
   "name": "python",
   "nbconvert_exporter": "python",
   "pygments_lexer": "ipython3",
   "version": "3.9.1"
  }
 },
 "nbformat": 4,
 "nbformat_minor": 4
}
