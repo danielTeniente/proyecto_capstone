{
 "cells": [
  {
   "cell_type": "markdown",
   "metadata": {},
   "source": [
    "# Detectar vehículos"
   ]
  },
  {
   "cell_type": "code",
   "execution_count": 5,
   "metadata": {},
   "outputs": [],
   "source": [
    "#deteccion de vehículos\n",
    "from funciones.detect_vehicles import detect_vehicles\n",
    "import matplotlib.pyplot as plt\n",
    "import cv2\n"
   ]
  },
  {
   "cell_type": "markdown",
   "metadata": {},
   "source": [
    "La función detectar vehículos recibe un frame como el siguiente:"
   ]
  },
  {
   "cell_type": "code",
   "execution_count": 6,
   "metadata": {},
   "outputs": [
    {
     "data": {
      "text/plain": [
       "<matplotlib.image.AxesImage at 0x21106567d68>"
      ]
     },
     "execution_count": 6,
     "metadata": {},
     "output_type": "execute_result"
    },
    {
     "data": {
      "image/png": "[encoded data removed]",
      "text/plain": [
       "<Figure size 432x288 with 1 Axes>"
      ]
     },
     "metadata": {
      "needs_background": "light"
     },
     "output_type": "display_data"
    }
   ],
   "source": [
    "img = cv2.imread('imagenes/autos.PNG',cv2.IMREAD_GRAYSCALE)\n",
    "plt.imshow(img)"
   ]
  },
  {
   "cell_type": "markdown",
   "metadata": {},
   "source": [
    "El fondo ya se ha eliminado gracias al sustractor. La función detectar vehículos encuentra los contornos de las figuras en la imagen y devuelve una lista de rectángulos que encierran esas figuras."
   ]
  },
  {
   "cell_type": "code",
   "execution_count": 7,
   "metadata": {},
   "outputs": [
    {
     "data": {
      "text/plain": [
       "{'cars': [((418, 321, 86, 30), (461, 336)),\n",
       "  ((347, 280, 93, 27), (393, 293)),\n",
       "  ((317, 221, 68, 18), (351, 230)),\n",
       "  ((172, 209, 76, 22), (210, 220))],\n",
       " 'motorcycles': [],\n",
       " 'heavy_vehicles': [],\n",
       " 'people': []}"
      ]
     },
     "execution_count": 7,
     "metadata": {},
     "output_type": "execute_result"
    }
   ],
   "source": [
    "detect_vehicles(img)"
   ]
  },
  {
   "cell_type": "markdown",
   "metadata": {},
   "source": [
    "El diccionario que devolvió tiene en la lista **cars** todos los vehículos que ha encontrado. Esto depende de las entradas de la función, ya que es posible enviarle el ancho y el alto de los rectángulos que se quieren encontrar. Esto depende del tamaño de la imagen."
   ]
  },
  {
   "cell_type": "code",
   "execution_count": 8,
   "metadata": {},
   "outputs": [
    {
     "data": {
      "text/plain": [
       "{'cars': [((80, 319, 15, 12), (87, 325)),\n",
       "  ((510, 316, 20, 14), (520, 323)),\n",
       "  ((1, 203, 12, 19), (7, 212)),\n",
       "  ((360, 2, 21, 11), (370, 7))],\n",
       " 'motorcycles': [],\n",
       " 'heavy_vehicles': [],\n",
       " 'people': []}"
      ]
     },
     "execution_count": 8,
     "metadata": {},
     "output_type": "execute_result"
    }
   ],
   "source": [
    "detect_vehicles(img,wh_cars={\"min_w\":10,\"max_w\":30,\"min_h\":10,\"max_h\":50})"
   ]
  },
  {
   "cell_type": "markdown",
   "metadata": {},
   "source": [
    "Al pasarle parámetros distintos, encontró rectángulos distintos que cumplen con el tamaño de los carros."
   ]
  },
  {
   "cell_type": "code",
   "execution_count": 11,
   "metadata": {},
   "outputs": [
    {
     "data": {
      "text/plain": [
       "{'cars': [],\n",
       " 'motorcycles': [],\n",
       " 'heavy_vehicles': [((80, 319, 15, 12), (87, 325)),\n",
       "  ((510, 316, 20, 14), (520, 323)),\n",
       "  ((491, 225, 57, 15), (519, 232)),\n",
       "  ((360, 2, 21, 11), (370, 7))],\n",
       " 'people': []}"
      ]
     },
     "execution_count": 11,
     "metadata": {},
     "output_type": "execute_result"
    }
   ],
   "source": [
    "detect_vehicles(img,\n",
    "                wh_cars={\"min_w\":10,\"max_w\":15,\"min_h\":5,\"max_h\":10},\n",
    "                wh_heavy_vehicles={\"min_w\":15,\"max_w\":60,\"min_h\":10,\"max_h\":100})"
   ]
  },
  {
   "cell_type": "markdown",
   "metadata": {},
   "source": [
    "Esta función encuentra los vehículos que hay en un frame, así que es necesario darle seguimiento a cada vehículo con otra función."
   ]
  },
  {
   "cell_type": "code",
   "execution_count": null,
   "metadata": {},
   "outputs": [],
   "source": []
  }
 ],
 "metadata": {
  "kernelspec": {
   "display_name": "Python 3",
   "language": "python",
   "name": "python3"
  },
  "language_info": {
   "codemirror_mode": {
    "name": "ipython",
    "version": 3
   },
   "file_extension": ".py",
   "mimetype": "text/x-python",
   "name": "python",
   "nbconvert_exporter": "python",
   "pygments_lexer": "ipython3",
   "version": "3.6.6"
  }
 },
 "nbformat": 4,
 "nbformat_minor": 2
}
